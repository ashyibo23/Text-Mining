{
  "nbformat": 4,
  "nbformat_minor": 0,
  "metadata": {
    "colab": {
      "name": "text_mining.ipynb",
      "provenance": []
    },
    "kernelspec": {
      "display_name": "Python 3",
      "name": "python3"
    },
    "language_info": {
      "name": "python"
    }
  },
  "cells": [
    {
      "cell_type": "code",
      "metadata": {
        "id": "RgD1mKz4BkIG"
      },
      "source": [
        "import pandas as pd\n",
        "import matplotlib.pyplot as plt\n",
        "import seaborn as sns\n",
        "import re\n",
        "from sklearn import metrics"
      ],
      "execution_count": 6,
      "outputs": []
    },
    {
      "cell_type": "code",
      "metadata": {
        "colab": {
          "base_uri": "https://localhost:8080/",
          "height": 204
        },
        "id": "Nr8RgDy9CYs8",
        "outputId": "b1274b77-07ea-4d18-cd17-b521b6b899a6"
      },
      "source": [
        "df = pd.read_csv('/content/Corona_NLP_train.csv', encoding='latin1')\n",
        "df.head()"
      ],
      "execution_count": 7,
      "outputs": [
        {
          "output_type": "execute_result",
          "data": {
            "text/html": [
              "<div>\n",
              "<style scoped>\n",
              "    .dataframe tbody tr th:only-of-type {\n",
              "        vertical-align: middle;\n",
              "    }\n",
              "\n",
              "    .dataframe tbody tr th {\n",
              "        vertical-align: top;\n",
              "    }\n",
              "\n",
              "    .dataframe thead th {\n",
              "        text-align: right;\n",
              "    }\n",
              "</style>\n",
              "<table border=\"1\" class=\"dataframe\">\n",
              "  <thead>\n",
              "    <tr style=\"text-align: right;\">\n",
              "      <th></th>\n",
              "      <th>UserName</th>\n",
              "      <th>ScreenName</th>\n",
              "      <th>Location</th>\n",
              "      <th>TweetAt</th>\n",
              "      <th>OriginalTweet</th>\n",
              "      <th>Sentiment</th>\n",
              "    </tr>\n",
              "  </thead>\n",
              "  <tbody>\n",
              "    <tr>\n",
              "      <th>0</th>\n",
              "      <td>3799</td>\n",
              "      <td>48751</td>\n",
              "      <td>London</td>\n",
              "      <td>16-03-2020</td>\n",
              "      <td>@MeNyrbie @Phil_Gahan @Chrisitv https://t.co/i...</td>\n",
              "      <td>Neutral</td>\n",
              "    </tr>\n",
              "    <tr>\n",
              "      <th>1</th>\n",
              "      <td>3800</td>\n",
              "      <td>48752</td>\n",
              "      <td>UK</td>\n",
              "      <td>16-03-2020</td>\n",
              "      <td>advice Talk to your neighbours family to excha...</td>\n",
              "      <td>Positive</td>\n",
              "    </tr>\n",
              "    <tr>\n",
              "      <th>2</th>\n",
              "      <td>3801</td>\n",
              "      <td>48753</td>\n",
              "      <td>Vagabonds</td>\n",
              "      <td>16-03-2020</td>\n",
              "      <td>Coronavirus Australia: Woolworths to give elde...</td>\n",
              "      <td>Positive</td>\n",
              "    </tr>\n",
              "    <tr>\n",
              "      <th>3</th>\n",
              "      <td>3802</td>\n",
              "      <td>48754</td>\n",
              "      <td>NaN</td>\n",
              "      <td>16-03-2020</td>\n",
              "      <td>My food stock is not the only one which is emp...</td>\n",
              "      <td>Positive</td>\n",
              "    </tr>\n",
              "    <tr>\n",
              "      <th>4</th>\n",
              "      <td>3803</td>\n",
              "      <td>48755</td>\n",
              "      <td>NaN</td>\n",
              "      <td>16-03-2020</td>\n",
              "      <td>Me, ready to go at supermarket during the #COV...</td>\n",
              "      <td>Extremely Negative</td>\n",
              "    </tr>\n",
              "  </tbody>\n",
              "</table>\n",
              "</div>"
            ],
            "text/plain": [
              "   UserName  ...           Sentiment\n",
              "0      3799  ...             Neutral\n",
              "1      3800  ...            Positive\n",
              "2      3801  ...            Positive\n",
              "3      3802  ...            Positive\n",
              "4      3803  ...  Extremely Negative\n",
              "\n",
              "[5 rows x 6 columns]"
            ]
          },
          "metadata": {},
          "execution_count": 7
        }
      ]
    },
    {
      "cell_type": "code",
      "metadata": {
        "colab": {
          "base_uri": "https://localhost:8080/",
          "height": 111
        },
        "id": "fF6lge2STz_3",
        "outputId": "be8679ca-1158-4b5f-8456-2a2843c5943d"
      },
      "source": [
        "df.iloc[0:2]"
      ],
      "execution_count": 9,
      "outputs": [
        {
          "output_type": "execute_result",
          "data": {
            "text/html": [
              "<div>\n",
              "<style scoped>\n",
              "    .dataframe tbody tr th:only-of-type {\n",
              "        vertical-align: middle;\n",
              "    }\n",
              "\n",
              "    .dataframe tbody tr th {\n",
              "        vertical-align: top;\n",
              "    }\n",
              "\n",
              "    .dataframe thead th {\n",
              "        text-align: right;\n",
              "    }\n",
              "</style>\n",
              "<table border=\"1\" class=\"dataframe\">\n",
              "  <thead>\n",
              "    <tr style=\"text-align: right;\">\n",
              "      <th></th>\n",
              "      <th>UserName</th>\n",
              "      <th>ScreenName</th>\n",
              "      <th>Location</th>\n",
              "      <th>TweetAt</th>\n",
              "      <th>OriginalTweet</th>\n",
              "      <th>Sentiment</th>\n",
              "    </tr>\n",
              "  </thead>\n",
              "  <tbody>\n",
              "    <tr>\n",
              "      <th>0</th>\n",
              "      <td>3799</td>\n",
              "      <td>48751</td>\n",
              "      <td>London</td>\n",
              "      <td>16-03-2020</td>\n",
              "      <td>@MeNyrbie @Phil_Gahan @Chrisitv https://t.co/i...</td>\n",
              "      <td>Neutral</td>\n",
              "    </tr>\n",
              "    <tr>\n",
              "      <th>1</th>\n",
              "      <td>3800</td>\n",
              "      <td>48752</td>\n",
              "      <td>UK</td>\n",
              "      <td>16-03-2020</td>\n",
              "      <td>advice Talk to your neighbours family to excha...</td>\n",
              "      <td>Positive</td>\n",
              "    </tr>\n",
              "  </tbody>\n",
              "</table>\n",
              "</div>"
            ],
            "text/plain": [
              "   UserName  ...  Sentiment\n",
              "0      3799  ...    Neutral\n",
              "1      3800  ...   Positive\n",
              "\n",
              "[2 rows x 6 columns]"
            ]
          },
          "metadata": {},
          "execution_count": 9
        }
      ]
    },
    {
      "cell_type": "code",
      "metadata": {
        "colab": {
          "base_uri": "https://localhost:8080/"
        },
        "id": "VWVlAGuX9TOs",
        "outputId": "10ea4807-d332-4e1a-ed77-d606f92b4b93"
      },
      "source": [
        "df.loc[0]"
      ],
      "execution_count": 10,
      "outputs": [
        {
          "output_type": "execute_result",
          "data": {
            "text/plain": [
              "UserName                                                      3799\n",
              "ScreenName                                                   48751\n",
              "Location                                                    London\n",
              "TweetAt                                                 16-03-2020\n",
              "OriginalTweet    @MeNyrbie @Phil_Gahan @Chrisitv https://t.co/i...\n",
              "Sentiment                                                  Neutral\n",
              "Name: 0, dtype: object"
            ]
          },
          "metadata": {},
          "execution_count": 10
        }
      ]
    },
    {
      "cell_type": "code",
      "metadata": {
        "colab": {
          "base_uri": "https://localhost:8080/"
        },
        "id": "EcJDWr6JZAP1",
        "outputId": "d3e145ec-295c-45a9-c4cc-8165c89ad437"
      },
      "source": [
        "df.info()"
      ],
      "execution_count": 11,
      "outputs": [
        {
          "output_type": "stream",
          "name": "stdout",
          "text": [
            "<class 'pandas.core.frame.DataFrame'>\n",
            "RangeIndex: 41157 entries, 0 to 41156\n",
            "Data columns (total 6 columns):\n",
            " #   Column         Non-Null Count  Dtype \n",
            "---  ------         --------------  ----- \n",
            " 0   UserName       41157 non-null  int64 \n",
            " 1   ScreenName     41157 non-null  int64 \n",
            " 2   Location       32567 non-null  object\n",
            " 3   TweetAt        41157 non-null  object\n",
            " 4   OriginalTweet  41157 non-null  object\n",
            " 5   Sentiment      41157 non-null  object\n",
            "dtypes: int64(2), object(4)\n",
            "memory usage: 1.9+ MB\n"
          ]
        }
      ]
    },
    {
      "cell_type": "code",
      "metadata": {
        "colab": {
          "base_uri": "https://localhost:8080/"
        },
        "id": "uab7g4v8zf6p",
        "outputId": "64d53894-edbd-4f7c-f383-9621328d32ef"
      },
      "source": [
        "df['Sentiment']"
      ],
      "execution_count": 12,
      "outputs": [
        {
          "output_type": "execute_result",
          "data": {
            "text/plain": [
              "0                   Neutral\n",
              "1                  Positive\n",
              "2                  Positive\n",
              "3                  Positive\n",
              "4        Extremely Negative\n",
              "                ...        \n",
              "41152               Neutral\n",
              "41153    Extremely Negative\n",
              "41154              Positive\n",
              "41155               Neutral\n",
              "41156              Negative\n",
              "Name: Sentiment, Length: 41157, dtype: object"
            ]
          },
          "metadata": {},
          "execution_count": 12
        }
      ]
    },
    {
      "cell_type": "code",
      "metadata": {
        "id": "5PG9TQcxgunG",
        "colab": {
          "base_uri": "https://localhost:8080/"
        },
        "outputId": "b6d35bb0-994d-42f6-fddf-d63c79721d58"
      },
      "source": [
        "#computing the possible sentiment values\n",
        "possible_sentiment = df.Sentiment.unique()\n",
        "print(\"The possible sentiments: \", str (possible_sentiment))\n"
      ],
      "execution_count": 13,
      "outputs": [
        {
          "output_type": "stream",
          "name": "stdout",
          "text": [
            "The possible sentiments:  ['Neutral' 'Positive' 'Extremely Negative' 'Negative' 'Extremely Positive']\n"
          ]
        }
      ]
    },
    {
      "cell_type": "code",
      "metadata": {
        "colab": {
          "base_uri": "https://localhost:8080/"
        },
        "id": "ISGGSFR4kw7x",
        "outputId": "dcebc255-b017-4d3f-9c81-b0bffed97b8e"
      },
      "source": [
        "sentiment_counts = df.Sentiment.value_counts()\n",
        "print(sentiment_counts)\n"
      ],
      "execution_count": 14,
      "outputs": [
        {
          "output_type": "stream",
          "name": "stdout",
          "text": [
            "Positive              11422\n",
            "Negative               9917\n",
            "Neutral                7713\n",
            "Extremely Positive     6624\n",
            "Extremely Negative     5481\n",
            "Name: Sentiment, dtype: int64\n"
          ]
        }
      ]
    },
    {
      "cell_type": "code",
      "metadata": {
        "colab": {
          "base_uri": "https://localhost:8080/"
        },
        "id": "XFkoeYI_3a72",
        "outputId": "6390e027-5834-4f45-f253-1350cbce8892"
      },
      "source": [
        "second_popular_sentiment = list(sentiment_counts.items())[1][0]\n",
        "print('The most popular sentiment:', second_popular_sentiment)"
      ],
      "execution_count": 15,
      "outputs": [
        {
          "output_type": "stream",
          "name": "stdout",
          "text": [
            "The most popular sentiment: Negative\n"
          ]
        }
      ]
    },
    {
      "cell_type": "code",
      "metadata": {
        "colab": {
          "base_uri": "https://localhost:8080/",
          "height": 285
        },
        "id": "HLvtcZ_ejaUM",
        "outputId": "47166a95-713e-489b-9a46-7cbe84faf451"
      },
      "source": [
        "plt.figure(figsize=(9,4))\n",
        "sns.set_theme(style=\"darkgrid\")\n",
        "sns.countplot(x = 'Sentiment', hue='Sentiment', data= df)\n",
        "plt.show()"
      ],
      "execution_count": 16,
      "outputs": [
        {
          "output_type": "display_data",
          "data": {
            "image/png": "[encoded data removed]",
            "text/plain": [
              "<Figure size 648x288 with 1 Axes>"
            ]
          },
          "metadata": {
            "needs_background": "light"
          }
        }
      ]
    },
    {
      "cell_type": "code",
      "metadata": {
        "colab": {
          "base_uri": "https://localhost:8080/"
        },
        "id": "09_vc_Hxul5T",
        "outputId": "9dfffb8f-423b-4d0c-cb88-b97df9185bcf"
      },
      "source": [
        "#date with the greatest number of extremely positive tweets.\n",
        "\n",
        "extremely_positive_tweets = df[df[\"Sentiment\"] == \"Extremely Positive\"]\n",
        "tweets1 = list(extremely_positive_tweets['TweetAt'].value_counts().items())[0][0]\n",
        "print('Date with the greatest amount of tweets of extremely positive on:', tweets1 )"
      ],
      "execution_count": 17,
      "outputs": [
        {
          "output_type": "stream",
          "name": "stdout",
          "text": [
            "Date with the greatest amount of tweets of extremely positive on: 25-03-2020\n"
          ]
        }
      ]
    },
    {
      "cell_type": "code",
      "metadata": {
        "colab": {
          "base_uri": "https://localhost:8080/"
        },
        "id": "tFoWd42hEKh8",
        "outputId": "fd171065-6f52-4e86-b149-a31194c1ccb8"
      },
      "source": [
        "#same as above\n",
        "tweets2 = extremely_positive_tweets['TweetAt'].value_counts().index.tolist()[0]\n",
        "print('Date with the greatest amount of tweets of extremely positive on:', tweets2 )\n"
      ],
      "execution_count": 18,
      "outputs": [
        {
          "output_type": "stream",
          "name": "stdout",
          "text": [
            "Date with the greatest amount of tweets of extremely positive on: 25-03-2020\n"
          ]
        }
      ]
    },
    {
      "cell_type": "code",
      "metadata": {
        "colab": {
          "base_uri": "https://localhost:8080/"
        },
        "id": "9qdtBWCKObMW",
        "outputId": "3f62b03c-0d4b-4382-86c6-e8c9b21de985"
      },
      "source": [
        "df['OriginalTweet']"
      ],
      "execution_count": 19,
      "outputs": [
        {
          "output_type": "execute_result",
          "data": {
            "text/plain": [
              "0        @MeNyrbie @Phil_Gahan @Chrisitv https://t.co/i...\n",
              "1        advice Talk to your neighbours family to excha...\n",
              "2        Coronavirus Australia: Woolworths to give elde...\n",
              "3        My food stock is not the only one which is emp...\n",
              "4        Me, ready to go at supermarket during the #COV...\n",
              "                               ...                        \n",
              "41152    Airline pilots offering to stock supermarket s...\n",
              "41153    Response to complaint not provided citing COVI...\n",
              "41154    You know itÂs getting tough when @KameronWild...\n",
              "41155    Is it wrong that the smell of hand sanitizer i...\n",
              "41156    @TartiiCat Well new/used Rift S are going for ...\n",
              "Name: OriginalTweet, Length: 41157, dtype: object"
            ]
          },
          "metadata": {},
          "execution_count": 19
        }
      ]
    },
    {
      "cell_type": "code",
      "metadata": {
        "colab": {
          "base_uri": "https://localhost:8080/"
        },
        "id": "VsjyEQ6qRZMB",
        "outputId": "a7fccde4-9227-4818-b29d-bb72a7243c4a"
      },
      "source": [
        "non_alphabetical = df['OriginalTweet'].str.replace('[^a-zA-Z]', ' ', regex=True)\n",
        "#spaces = non_alphabetical.str.strip()\n",
        "print(non_alphabetical)"
      ],
      "execution_count": 20,
      "outputs": [
        {
          "output_type": "stream",
          "name": "stdout",
          "text": [
            "0         MeNyrbie  Phil Gahan  Chrisitv https   t co i...\n",
            "1        advice Talk to your neighbours family to excha...\n",
            "2        Coronavirus Australia  Woolworths to give elde...\n",
            "3        My food stock is not the only one which is emp...\n",
            "4        Me  ready to go at supermarket during the  COV...\n",
            "                               ...                        \n",
            "41152    Airline pilots offering to stock supermarket s...\n",
            "41153    Response to complaint not provided citing COVI...\n",
            "41154    You know it  s getting tough when  KameronWild...\n",
            "41155    Is it wrong that the smell of hand sanitizer i...\n",
            "41156     TartiiCat Well new used Rift S are going for ...\n",
            "Name: OriginalTweet, Length: 41157, dtype: object\n"
          ]
        }
      ]
    },
    {
      "cell_type": "code",
      "metadata": {
        "colab": {
          "base_uri": "https://localhost:8080/"
        },
        "id": "Pi-h-gV1L6NE",
        "outputId": "c90f1dc5-8bec-4dee-b24e-4dc9d4e261fa"
      },
      "source": [
        "#non-alphabetical characters with whitespaces\n",
        "non_alphabetical = df['OriginalTweet'].str.replace('[^a-zA-Z]', ' ', regex=True)\n",
        "spaces = non_alphabetical.str.replace('\\s+', ' ', regex=True)\n",
        "print(spaces)"
      ],
      "execution_count": 21,
      "outputs": [
        {
          "output_type": "stream",
          "name": "stdout",
          "text": [
            "0         MeNyrbie Phil Gahan Chrisitv https t co iFz F...\n",
            "1        advice Talk to your neighbours family to excha...\n",
            "2        Coronavirus Australia Woolworths to give elder...\n",
            "3        My food stock is not the only one which is emp...\n",
            "4        Me ready to go at supermarket during the COVID...\n",
            "                               ...                        \n",
            "41152    Airline pilots offering to stock supermarket s...\n",
            "41153    Response to complaint not provided citing COVI...\n",
            "41154    You know it s getting tough when KameronWilds ...\n",
            "41155    Is it wrong that the smell of hand sanitizer i...\n",
            "41156     TartiiCat Well new used Rift S are going for ...\n",
            "Name: OriginalTweet, Length: 41157, dtype: object\n"
          ]
        }
      ]
    },
    {
      "cell_type": "code",
      "metadata": {
        "colab": {
          "base_uri": "https://localhost:8080/"
        },
        "id": "u7PXulG6Rmlr",
        "outputId": "3e06819f-0a80-4b11-fc4f-c8e2713e42bd"
      },
      "source": [
        "lower_case = spaces.str.lower()\n",
        "print(lower_case)"
      ],
      "execution_count": 22,
      "outputs": [
        {
          "output_type": "stream",
          "name": "stdout",
          "text": [
            "0         menyrbie phil gahan chrisitv https t co ifz f...\n",
            "1        advice talk to your neighbours family to excha...\n",
            "2        coronavirus australia woolworths to give elder...\n",
            "3        my food stock is not the only one which is emp...\n",
            "4        me ready to go at supermarket during the covid...\n",
            "                               ...                        \n",
            "41152    airline pilots offering to stock supermarket s...\n",
            "41153    response to complaint not provided citing covi...\n",
            "41154    you know it s getting tough when kameronwilds ...\n",
            "41155    is it wrong that the smell of hand sanitizer i...\n",
            "41156     tartiicat well new used rift s are going for ...\n",
            "Name: OriginalTweet, Length: 41157, dtype: object\n"
          ]
        }
      ]
    },
    {
      "cell_type": "code",
      "metadata": {
        "colab": {
          "base_uri": "https://localhost:8080/"
        },
        "id": "WZjsQZ9MZMMS",
        "outputId": "d511adfd-fe9d-4416-d800-e60c6f82eb9c"
      },
      "source": [
        "#Tokenize the tweets\n",
        "tokenize_tweets = lower_case.str.split(expand = True).stack().value_counts()\n",
        "print(tokenize_tweets)"
      ],
      "execution_count": 23,
      "outputs": [
        {
          "output_type": "stream",
          "name": "stdout",
          "text": [
            "the                   44919\n",
            "to                    38509\n",
            "t                     29901\n",
            "co                    24153\n",
            "and                   24107\n",
            "                      ...  \n",
            "hgb                       1\n",
            "ipvf                      1\n",
            "globalsupplychains        1\n",
            "trop                      1\n",
            "yqcznmizdg                1\n",
            "Length: 80071, dtype: int64\n"
          ]
        }
      ]
    },
    {
      "cell_type": "code",
      "metadata": {
        "colab": {
          "base_uri": "https://localhost:8080/"
        },
        "id": "d4oYYUq4lR3r",
        "outputId": "d2d2e341-fffb-4d8e-e5b8-662e9474f9d3"
      },
      "source": [
        "#count the total number of all words and distinct \n",
        "total = sum(tokenize_tweets)\n",
        "print(\"The total number of all words:\", total)\n",
        "print(\"Total no. of distinct words:\", len(set(tokenize_tweets)))"
      ],
      "execution_count": 24,
      "outputs": [
        {
          "output_type": "stream",
          "name": "stdout",
          "text": [
            "The total number of all words: 1350959\n",
            "Total no. of distinct words: 700\n"
          ]
        }
      ]
    },
    {
      "cell_type": "code",
      "metadata": {
        "colab": {
          "base_uri": "https://localhost:8080/"
        },
        "id": "afL3AlKQmyvh",
        "outputId": "431a0eb6-2ef6-4a09-9603-d33016ebc30d"
      },
      "source": [
        "#the 10 most frequent words in the corpus.\n",
        "print(\"The top 10 most frequent words:\")\n",
        "print(tokenize_tweets[:10])"
      ],
      "execution_count": 25,
      "outputs": [
        {
          "output_type": "stream",
          "name": "stdout",
          "text": [
            "The top 10 most frequent words:\n",
            "the      44919\n",
            "to       38509\n",
            "t        29901\n",
            "co       24153\n",
            "and      24107\n",
            "https    24007\n",
            "covid    23238\n",
            "of       21570\n",
            "a        19964\n",
            "in       19359\n",
            "dtype: int64\n"
          ]
        }
      ]
    },
    {
      "cell_type": "code",
      "metadata": {
        "colab": {
          "base_uri": "https://localhost:8080/"
        },
        "id": "wbgNcfgvrM1r",
        "outputId": "e59973bb-a9f6-4f58-befc-8887638a5b81"
      },
      "source": [
        "#Remove stop words, words with \u0014<= 2 characters\n",
        "stop_words = lower_case.str.findall('\\w{3,}').str.join(' ')\n",
        "print(stop_words)\n"
      ],
      "execution_count": 26,
      "outputs": [
        {
          "output_type": "stream",
          "name": "stdout",
          "text": [
            "0        menyrbie phil gahan chrisitv https ifz fan and...\n",
            "1        advice talk your neighbours family exchange ph...\n",
            "2        coronavirus australia woolworths give elderly ...\n",
            "3        food stock not the only one which empty please...\n",
            "4        ready supermarket during the covid outbreak no...\n",
            "                               ...                        \n",
            "41152    airline pilots offering stock supermarket shel...\n",
            "41153    response complaint not provided citing covid r...\n",
            "41154    you know getting tough when kameronwilds ratio...\n",
            "41155    wrong that the smell hand sanitizer starting t...\n",
            "41156    tartiicat well new used rift are going for ama...\n",
            "Name: OriginalTweet, Length: 41157, dtype: object\n"
          ]
        }
      ]
    },
    {
      "cell_type": "code",
      "metadata": {
        "colab": {
          "base_uri": "https://localhost:8080/"
        },
        "id": "9J1I7xe16tpV",
        "outputId": "eb770f3b-7a82-4578-81a6-086825ae56d2"
      },
      "source": [
        "#Tokenize\n",
        "stop_words_tweets = stop_words.str.split(expand = True).stack().value_counts()\n",
        "#recounting the total number of words\n",
        "total_sum = sum(stop_words_tweets)\n",
        "print(\"The total sum of all words:\", total_sum)\n",
        "\n",
        "\n",
        "#the 10 most frequent words in the modified corpus\n",
        "\n",
        "print(\"The top 10 most frequent words:\")\n",
        "print(stop_words_tweets[:10])"
      ],
      "execution_count": 27,
      "outputs": [
        {
          "output_type": "stream",
          "name": "stdout",
          "text": [
            "The total sum of all words: 1045810\n",
            "The top 10 most frequent words:\n",
            "the            44919\n",
            "and            24107\n",
            "https          24007\n",
            "covid          23238\n",
            "coronavirus    18210\n",
            "for            14063\n",
            "are            11353\n",
            "you            10063\n",
            "this            8001\n",
            "prices          7959\n",
            "dtype: int64\n"
          ]
        }
      ]
    },
    {
      "cell_type": "code",
      "metadata": {
        "colab": {
          "base_uri": "https://localhost:8080/"
        },
        "id": "olMvk-V9MICs",
        "outputId": "b3e50df4-0a51-4408-93f2-f418dd5f1622"
      },
      "source": [
        "#Multinomial Naive Bayes classiifer\n",
        "from sklearn.naive_bayes import MultinomialNB\n",
        "from sklearn.feature_extraction.text import CountVectorizer\n",
        "import numpy as np\n",
        "\n",
        "corpus = np.array(df[\"OriginalTweet\"])\n",
        "target = np.array(df.Sentiment)\n",
        "vectorizer = CountVectorizer()\n",
        "\n",
        "X = vectorizer.fit_transform(corpus)\n",
        "\n",
        "clf = MultinomialNB()\n",
        "clf.fit(X, target)\n",
        "\n",
        "#class predications\n",
        "class_pred = clf.predict(X)\n",
        "print(\"Actual\")\n",
        "print(df['Sentiment'][:10])\n",
        "print(\"predicted\")\n",
        "print(class_pred[:10])\n",
        "\n",
        "\n"
      ],
      "execution_count": 28,
      "outputs": [
        {
          "output_type": "stream",
          "name": "stdout",
          "text": [
            "Actual\n",
            "0               Neutral\n",
            "1              Positive\n",
            "2              Positive\n",
            "3              Positive\n",
            "4    Extremely Negative\n",
            "5              Positive\n",
            "6              Positive\n",
            "7               Neutral\n",
            "8              Positive\n",
            "9              Negative\n",
            "Name: Sentiment, dtype: object\n",
            "predicted\n",
            "['Neutral' 'Positive' 'Positive' 'Positive' 'Extremely Negative'\n",
            " 'Positive' 'Positive' 'Neutral' 'Positive' 'Positive']\n"
          ]
        }
      ]
    },
    {
      "cell_type": "code",
      "metadata": {
        "colab": {
          "base_uri": "https://localhost:8080/"
        },
        "id": "egp7hBj0c8rw",
        "outputId": "866842ec-5a7a-46c3-e006-a24a87633aac"
      },
      "source": [
        "#calculating accuracy \n",
        "#model.score(target, class_pred)\n",
        "accuracy = metrics.accuracy_score(target, class_pred)\n",
        "error_rate = str(round((1 - accuracy) * 100, 2)) + \"%\"\n",
        "print(\"Multinomial NB classifier error rate: \" +  error_rate)\n",
        "print(\"Accuracy: \", accuracy)"
      ],
      "execution_count": 54,
      "outputs": [
        {
          "output_type": "stream",
          "name": "stdout",
          "text": [
            "Multinomial NB classifier error rate: 25.24%\n",
            "Accuracy:  0.7476249483684428\n"
          ]
        }
      ]
    }
  ]
}